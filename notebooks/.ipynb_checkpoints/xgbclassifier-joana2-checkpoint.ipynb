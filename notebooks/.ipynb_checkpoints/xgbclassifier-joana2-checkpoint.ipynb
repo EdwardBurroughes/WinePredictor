{
 "cells": [
  {
   "cell_type": "code",
   "execution_count": 1,
   "metadata": {},
   "outputs": [],
   "source": [
    "import os \n",
    "import pandas as pd\n",
    "import numpy as np\n",
    "import matplotlib.pyplot as plt\n",
    "import seaborn as sns \n",
    "from sklearn.impute import SimpleImputer\n",
    "# from sklearn.linear_model import LinearRegression\n",
    "from sklearn.ensemble import RandomForestRegressor\n",
    "from sklearn.multiclass import OneVsRestClassifier\n",
    "from sklearn.linear_model import LogisticRegression\n",
    "from sklearn.svm import SVC\n",
    "from sklearn.model_selection import cross_val_score,train_test_split\n",
    "from sklearn.preprocessing import RobustScaler  \n",
    "%matplotlib inline"
   ]
  },
  {
   "cell_type": "code",
   "execution_count": 2,
   "metadata": {},
   "outputs": [],
   "source": [
    "def import_raw_data(operating_system ='mac'):\n",
    "    '''generate a dictionary of raw dataframes\n",
    "    \n",
    "    parameters\n",
    "    -----------\n",
    "    type of operating system used windows or mac\n",
    "    default mac\n",
    "    \n",
    "    '''\n",
    "    if operating_system == 'mac':\n",
    "        base_file_path = r\"/Users/{}/Desktop/data\".format(os.getlogin())\n",
    "    if operating_system == 'windows':\n",
    "        base_file_path = r\"C:\\Users\\{}\\Desktop\\data\".format(os.getlogin())\n",
    "    df_dict = dict()\n",
    "    for file in os.listdir(base_file_path):\n",
    "        if file.endswith('.csv'):\n",
    "            df_dict[file.split('.')[0]] = pd.read_csv(os.path.join(base_file_path,file))\n",
    "    return df_dict"
   ]
  },
  {
   "cell_type": "markdown",
   "metadata": {},
   "source": [
    "# import data"
   ]
  },
  {
   "cell_type": "code",
   "execution_count": 3,
   "metadata": {},
   "outputs": [],
   "source": [
    "df_dict = import_raw_data()\n",
    "df = df_dict.get('winemag-data-130k-v2').copy()\n",
    "temp_df = df_dict.get('temperature').copy()\n",
    "country_iso = df_dict.get('country_iso_data').copy()\n",
    "weather_month_v2 = df_dict.get('weather_country_month_v2').copy()\n",
    "features = df_dict.get('data_test').copy()"
   ]
  },
  {
   "cell_type": "code",
   "execution_count": 4,
   "metadata": {},
   "outputs": [
    {
     "data": {
      "text/plain": [
       "<AxesSubplot:xlabel='test', ylabel='count'>"
      ]
     },
     "execution_count": 4,
     "metadata": {},
     "output_type": "execute_result"
    },
    {
     "data": {
      "image/png": "[encoded data removed]",
      "text/plain": [
       "<Figure size 432x288 with 1 Axes>"
      ]
     },
     "metadata": {
      "needs_background": "light"
     },
     "output_type": "display_data"
    }
   ],
   "source": [
    "# changed from using original quantile list, big factor in driving results \n",
    "df['test'] = pd.cut(df['points'],bins=5,labels=[1,2,3,4,5])\n",
    "df['test'].value_counts()\n",
    "sns.countplot(x='test', color='darkgreen',\n",
    "                  data=df)"
   ]
  },
  {
   "cell_type": "markdown",
   "metadata": {},
   "source": [
    "**columns to remove**\n",
    "\n",
    "description, designation & Twitter handle removed at this stage, explore later"
   ]
  },
  {
   "cell_type": "code",
   "execution_count": 5,
   "metadata": {},
   "outputs": [],
   "source": [
    "COLUMN_DROP = ['Unnamed: 0','designation','region_2','taster_twitter_handle','points']\n",
    "df.drop(columns=COLUMN_DROP,inplace=True)"
   ]
  },
  {
   "cell_type": "markdown",
   "metadata": {},
   "source": [
    "## dealing with missing data\n"
   ]
  },
  {
   "cell_type": "code",
   "execution_count": 6,
   "metadata": {},
   "outputs": [],
   "source": [
    "df.dropna(subset=['variety','province','country','taster_name'],inplace=True)"
   ]
  },
  {
   "cell_type": "code",
   "execution_count": 7,
   "metadata": {},
   "outputs": [
    {
     "data": {
      "text/plain": [
       "country            0\n",
       "description        0\n",
       "price              0\n",
       "province           0\n",
       "region_1       20817\n",
       "taster_name        0\n",
       "title              0\n",
       "variety            0\n",
       "winery             0\n",
       "test               0\n",
       "dtype: int64"
      ]
     },
     "execution_count": 7,
     "metadata": {},
     "output_type": "execute_result"
    }
   ],
   "source": [
    "imp_median = SimpleImputer(strategy='median')\n",
    "df['price'] = imp_median.fit_transform(df[['price']])\n",
    "df.isnull().sum()"
   ]
  },
  {
   "cell_type": "code",
   "execution_count": 8,
   "metadata": {},
   "outputs": [],
   "source": [
    "df['region_1'] = df['region_1'].fillna(\"NONE\")\n",
    "# drop the duplicates in the data\n",
    "df.drop_duplicates(subset=['description','title'],inplace=True)"
   ]
  },
  {
   "cell_type": "markdown",
   "metadata": {},
   "source": [
    "# preprocessing  & Feature Engineering\n",
    "\n",
    "extracting year from text and cleaing reuslt to produce valid year"
   ]
  },
  {
   "cell_type": "code",
   "execution_count": 9,
   "metadata": {},
   "outputs": [],
   "source": [
    "## year \n",
    "count_year = df[df['title'].str.contains('\\d',regex=True)].shape[0]\n",
    "df['number_extract'] = df['title'].str.extract('(\\d+)')\n",
    "df['number_extract'] = np.where(len(df['number_extract'])<4 & len(df['number_extract'])<=5,np.nan,df['number_extract'])\n",
    "df['number_extract'] = pd.to_numeric(df['number_extract'])\n",
    "df['number_extract'] = np.where(\n",
    "                    (df['number_extract']>=2021) | (df['number_extract']<=(2021-70)),\n",
    "                    np.nan,\n",
    "                    df['number_extract'])"
   ]
  },
  {
   "cell_type": "markdown",
   "metadata": {},
   "source": [
    "adding simple imputer but may need to change"
   ]
  },
  {
   "cell_type": "code",
   "execution_count": 10,
   "metadata": {},
   "outputs": [
    {
     "data": {
      "text/plain": [
       "country        0\n",
       "description    0\n",
       "price          0\n",
       "province       0\n",
       "region_1       0\n",
       "taster_name    0\n",
       "title          0\n",
       "variety        0\n",
       "winery         0\n",
       "test           0\n",
       "year           0\n",
       "dtype: int64"
      ]
     },
     "execution_count": 10,
     "metadata": {},
     "output_type": "execute_result"
    }
   ],
   "source": [
    "imp_median = SimpleImputer(strategy='median')\n",
    "df['number_extract'] = imp_median.fit_transform(df[['number_extract']])\n",
    "df['number_extract'] = pd.to_datetime(df['number_extract'],format='%Y').dt.year \n",
    "df.rename(columns={'number_extract':'year'},inplace=True)\n",
    "df.isnull().sum()"
   ]
  },
  {
   "cell_type": "markdown",
   "metadata": {},
   "source": [
    "calculating length of the name to work out whether name longer names and titles relate to better reviews"
   ]
  },
  {
   "cell_type": "code",
   "execution_count": 11,
   "metadata": {},
   "outputs": [],
   "source": [
    "for col in ['title','taster_name']:\n",
    "     df[f\"{col}_length\"] = df[col].apply(lambda x: len(x))"
   ]
  },
  {
   "cell_type": "code",
   "execution_count": 12,
   "metadata": {},
   "outputs": [],
   "source": [
    "#TODO change labels to numbers\n",
    "df['price_bin'] = pd.cut(df['price'],bins=15,labels=False)\n",
    "df.drop(columns=['taster_name', 'title'],inplace=True)"
   ]
  },
  {
   "cell_type": "markdown",
   "metadata": {},
   "source": [
    "# Add Weather Data\n",
    "\n",
    "additional feature related to average temperature for each year"
   ]
  },
  {
   "cell_type": "code",
   "execution_count": 13,
   "metadata": {},
   "outputs": [],
   "source": [
    "weather_feature = df.set_index('country').join(country_iso.set_index('country'))\n",
    "weather_iso_df = weather_month_v2.set_index('country').join(country_iso.set_index('country'))\n",
    "weather_iso_df['year'] = pd.to_datetime(weather_iso_df['month']).dt.year\n",
    "weather_iso_summary_df = weather_iso_df.groupby(['country_iso', 'year'], as_index=False).mean()"
   ]
  },
  {
   "cell_type": "code",
   "execution_count": 14,
   "metadata": {},
   "outputs": [],
   "source": [
    "df = pd.merge(\n",
    "              weather_feature, \n",
    "              weather_iso_summary_df,  \n",
    "              how='left', \n",
    "              left_on=['country_iso','year'], \n",
    "              right_on=['country_iso','year']\n",
    "             )"
   ]
  },
  {
   "cell_type": "code",
   "execution_count": 15,
   "metadata": {},
   "outputs": [
    {
     "data": {
      "text/plain": [
       "description           0\n",
       "price                 0\n",
       "province              0\n",
       "region_1              0\n",
       "variety               0\n",
       "winery                0\n",
       "test                  0\n",
       "year                  0\n",
       "title_length          0\n",
       "taster_name_length    0\n",
       "price_bin             0\n",
       "country_iso           0\n",
       "avg_temp              0\n",
       "dtype: int64"
      ]
     },
     "execution_count": 15,
     "metadata": {},
     "output_type": "execute_result"
    }
   ],
   "source": [
    "imp_median = SimpleImputer(strategy='median')\n",
    "df['avg_temp'] = imp_median.fit_transform(df[['avg_temp']])\n",
    "df.isnull().sum()"
   ]
  },
  {
   "cell_type": "markdown",
   "metadata": {},
   "source": [
    "# NLP"
   ]
  },
  {
   "cell_type": "code",
   "execution_count": 16,
   "metadata": {},
   "outputs": [],
   "source": [
    "from nltk.tokenize import word_tokenize\n",
    "import nltk\n",
    "from nltk.corpus import stopwords\n",
    "from textblob import Blobber\n",
    "from textblob.sentiments import NaiveBayesAnalyzer"
   ]
  },
  {
   "cell_type": "code",
   "execution_count": 17,
   "metadata": {},
   "outputs": [],
   "source": [
    "def vocab_richness(text):\n",
    "    tokens = word_tokenize(text)\n",
    "    total_length = len(tokens)\n",
    "    unique_words = set(tokens)\n",
    "    unique_word_length = len(unique_words)\n",
    "    return unique_word_length/total_length\n",
    "\n",
    "df['vocab richness'] = df['description'].apply(vocab_richness)"
   ]
  },
  {
   "cell_type": "markdown",
   "metadata": {},
   "source": [
    "## sentiment from text"
   ]
  },
  {
   "cell_type": "code",
   "execution_count": 18,
   "metadata": {},
   "outputs": [
    {
     "name": "stderr",
     "output_type": "stream",
     "text": [
      "[nltk_data] Downloading package stopwords to\n",
      "[nltk_data]     /Users/joanamarcelino/nltk_data...\n",
      "[nltk_data]   Package stopwords is already up-to-date!\n"
     ]
    }
   ],
   "source": [
    "# taken from kaggle\n",
    "import string \n",
    "punc = set(string.punctuation)\n",
    "\n",
    "#loading stop_words\n",
    "nltk.download('stopwords')\n",
    "\n",
    "# creating a set of stop words\n",
    "stop_words = set(stopwords.words('english'))\n",
    "\n",
    "# combining the 2 sets with an \"or\" operator (i.e. \"|\")\n",
    "all_stops = stop_words | punc\n",
    "\n",
    "# loop to pre-process data\n",
    "clean_desc =[]\n",
    "for item in df['description'].to_list():\n",
    "    tok_desc = word_tokenize(item)\n",
    "    lower_data = [i.lower() for i in tok_desc]\n",
    "    tok_desc_no_num = [i for i in lower_data if i.isalpha()]\n",
    "    filtered_desc = [i for i in tok_desc_no_num if i not in all_stops]\n",
    "    clean_desc.append(filtered_desc)"
   ]
  },
  {
   "cell_type": "code",
   "execution_count": 19,
   "metadata": {},
   "outputs": [],
   "source": [
    "# Organizing the data in a new dataframe\n",
    "clean_desc_untok = [' '.join(i) for i in clean_desc]\n",
    "column_names = ['original_desc', 'untok_description']\n",
    "data_tuple= list(zip(df['description'], clean_desc_untok))\n",
    "desc_df = pd.DataFrame(data_tuple, columns=column_names)"
   ]
  },
  {
   "cell_type": "code",
   "execution_count": 20,
   "metadata": {},
   "outputs": [
    {
     "name": "stderr",
     "output_type": "stream",
     "text": [
      "[nltk_data] Downloading package movie_reviews to\n",
      "[nltk_data]     /Users/joanamarcelino/nltk_data...\n",
      "[nltk_data]   Package movie_reviews is already up-to-date!\n"
     ]
    }
   ],
   "source": [
    "nltk.download('movie_reviews')\n",
    "tb = Blobber(analyzer=NaiveBayesAnalyzer())\n",
    "blob = [tb(text) for text in desc_df['untok_description']]\n",
    "sentiment_values = [text.sentiment for text in blob]"
   ]
  },
  {
   "cell_type": "code",
   "execution_count": 21,
   "metadata": {},
   "outputs": [
    {
     "data": {
      "text/html": [
       "<div>\n",
       "<style scoped>\n",
       "    .dataframe tbody tr th:only-of-type {\n",
       "        vertical-align: middle;\n",
       "    }\n",
       "\n",
       "    .dataframe tbody tr th {\n",
       "        vertical-align: top;\n",
       "    }\n",
       "\n",
       "    .dataframe thead th {\n",
       "        text-align: right;\n",
       "    }\n",
       "</style>\n",
       "<table border=\"1\" class=\"dataframe\">\n",
       "  <thead>\n",
       "    <tr style=\"text-align: right;\">\n",
       "      <th></th>\n",
       "      <th>clf</th>\n",
       "      <th>pos</th>\n",
       "      <th>neg</th>\n",
       "    </tr>\n",
       "  </thead>\n",
       "  <tbody>\n",
       "    <tr>\n",
       "      <th>0</th>\n",
       "      <td>neg</td>\n",
       "      <td>0.0774711</td>\n",
       "      <td>0.922529</td>\n",
       "    </tr>\n",
       "    <tr>\n",
       "      <th>1</th>\n",
       "      <td>pos</td>\n",
       "      <td>0.835127</td>\n",
       "      <td>0.164873</td>\n",
       "    </tr>\n",
       "    <tr>\n",
       "      <th>2</th>\n",
       "      <td>pos</td>\n",
       "      <td>0.995154</td>\n",
       "      <td>0.00484628</td>\n",
       "    </tr>\n",
       "    <tr>\n",
       "      <th>3</th>\n",
       "      <td>neg</td>\n",
       "      <td>0.0718264</td>\n",
       "      <td>0.928174</td>\n",
       "    </tr>\n",
       "    <tr>\n",
       "      <th>4</th>\n",
       "      <td>pos</td>\n",
       "      <td>0.947882</td>\n",
       "      <td>0.0521175</td>\n",
       "    </tr>\n",
       "  </tbody>\n",
       "</table>\n",
       "</div>"
      ],
      "text/plain": [
       "   clf        pos         neg\n",
       "0  neg  0.0774711    0.922529\n",
       "1  pos   0.835127    0.164873\n",
       "2  pos   0.995154  0.00484628\n",
       "3  neg  0.0718264    0.928174\n",
       "4  pos   0.947882   0.0521175"
      ]
     },
     "execution_count": 21,
     "metadata": {},
     "output_type": "execute_result"
    }
   ],
   "source": [
    "stats = pd.DataFrame(zip(*sentiment_values)).T\n",
    "stats.columns = ['clf','pos','neg']\n",
    "stats.head()"
   ]
  },
  {
   "cell_type": "code",
   "execution_count": 22,
   "metadata": {},
   "outputs": [
    {
     "data": {
      "image/png": "[encoded data removed]",
      "text/plain": [
       "<Figure size 432x288 with 1 Axes>"
      ]
     },
     "metadata": {
      "needs_background": "light"
     },
     "output_type": "display_data"
    }
   ],
   "source": [
    "sns.countplot(stats['clf'])\n",
    "df = df.join(stats)"
   ]
  },
  {
   "cell_type": "markdown",
   "metadata": {},
   "source": [
    "move back onto original dataset"
   ]
  },
  {
   "cell_type": "code",
   "execution_count": 23,
   "metadata": {},
   "outputs": [],
   "source": [
    "X = df.drop(columns=['test','description','clf'])\n",
    "X = X.iloc[:25000,:]\n",
    "y = df[['test']]\n",
    "y = y.iloc[:25000,:]"
   ]
  },
  {
   "cell_type": "markdown",
   "metadata": {},
   "source": [
    "## Feature Selection\n",
    "Feature selection defining best & worst features for one hot encoded categorical features"
   ]
  },
  {
   "cell_type": "code",
   "execution_count": 24,
   "metadata": {},
   "outputs": [],
   "source": [
    "from sklearn.metrics import f1_score\n",
    "\n",
    "def f1(model,X_test,y_test):\n",
    "    y_pred = model.predict(X_test)\n",
    "    score = f1_score(y_test,y_pred,average='weighted')\n",
    "    return score\n",
    "\n",
    "def create_dummies_ohe(X,cat_columns):\n",
    "    categorical_x = pd.get_dummies(X[cat_columns],prefix=['1','2','3','4','5'])\n",
    "    numeric_cols = list(set(X.columns)-set(cat_columns))\n",
    "    return pd.concat([X[numeric_cols],categorical_x], axis=1)\n",
    "\n",
    "def create_dummies_le(X,cat_columns):\n",
    "    le = preprocessing.LabelEncoder()\n",
    "    for col in cat_columns:\n",
    "        X[col] = le.fit_transform(X[col])\n",
    "    return X"
   ]
  },
  {
   "cell_type": "markdown",
   "metadata": {},
   "source": [
    "Holdout method on the data"
   ]
  },
  {
   "cell_type": "code",
   "execution_count": 25,
   "metadata": {},
   "outputs": [],
   "source": [
    "#based on the features selected above\n",
    "from sklearn.ensemble import RandomForestClassifier\n",
    "from sklearn.preprocessing import QuantileTransformer\n",
    "import warnings \n",
    "warnings.simplefilter('ignore')\n",
    "numeric_features = ['price','title_length','taster_name_length','avg_temp','year','pos','neg','vocab richness']\n",
    "cat_features = ['province','variety','country_iso','price_bin','winery','region_1']\n",
    "\n",
    "def select_cat_data_threshold(X,feature_data,threshold_value,cat_features=cat_features):\n",
    "    dictionary_filter = {cat:feature_data.loc[(feature_data[cat]==True) & \n",
    "                                              (feature_data['scores']<=threshold_value),'features']for cat in cat_features}\n",
    "    for cat,series in dictionary_filter.items():\n",
    "        X.loc[X[cat].isin(series),cat] = 'Other'\n",
    "    return (X,dictionary_filter)"
   ]
  },
  {
   "cell_type": "markdown",
   "metadata": {},
   "source": [
    "test whether the model speed and F1 given the threshold defined above and PCA"
   ]
  },
  {
   "cell_type": "code",
   "execution_count": 26,
   "metadata": {},
   "outputs": [],
   "source": [
    "# start = datetime.datetime.now()\n",
    "# X,features_replace = select_cat_data_threshold(X,features,1E-6)\n",
    "# X = create_dummies_ohe(X,cat_features)\n",
    "# X_train, X_test,y_train,y_test = train_test_split(X,y,test_size=0.3,random_state=1)\n",
    "# sc = QuantileTransformer()\n",
    "# X_train[numeric_features] = sc.fit_transform(X_train[numeric_features])\n",
    "# X_test[numeric_features] = sc.fit_transform(X_test[numeric_features])\n",
    "# rf_classifier = RandomForestClassifier(n_estimators=500,n_jobs=-1)\n",
    "# rf_classifier.fit(X_train, y_train)\n",
    "# y_pred = rf_classifier.predict(X_test)\n",
    "# print(f1_score(y_test,y_pred,average='weighted'))\n",
    "# end = datetime.datetime.now()\n",
    "# print(end-start)"
   ]
  },
  {
   "cell_type": "code",
   "execution_count": 27,
   "metadata": {},
   "outputs": [],
   "source": [
    "import datetime\n",
    "from xgboost import XGBClassifier"
   ]
  },
  {
   "cell_type": "code",
   "execution_count": 29,
   "metadata": {},
   "outputs": [
    {
     "data": {
      "text/plain": [
       "price                   65\n",
       "province          Burgundy\n",
       "region_1           Pommard\n",
       "variety         Pinot Noir\n",
       "winery      Joseph Drouhin\n",
       "Name: 25000, dtype: object"
      ]
     },
     "execution_count": 29,
     "metadata": {},
     "output_type": "execute_result"
    }
   ],
   "source": [
    "X.head()"
   ]
  },
  {
   "cell_type": "code",
   "execution_count": 28,
   "metadata": {},
   "outputs": [
    {
     "ename": "AttributeError",
     "evalue": "'str' object has no attribute 'isin'",
     "output_type": "error",
     "traceback": [
      "\u001b[0;31m---------------------------------------------------------------------------\u001b[0m",
      "\u001b[0;31mAttributeError\u001b[0m                            Traceback (most recent call last)",
      "\u001b[0;32m<ipython-input-28-e4b8ab5cd434>\u001b[0m in \u001b[0;36m<module>\u001b[0;34m\u001b[0m\n\u001b[1;32m      2\u001b[0m \u001b[0;32mimport\u001b[0m \u001b[0mdatetime\u001b[0m\u001b[0;34m\u001b[0m\u001b[0;34m\u001b[0m\u001b[0m\n\u001b[1;32m      3\u001b[0m \u001b[0mstart\u001b[0m \u001b[0;34m=\u001b[0m \u001b[0mdatetime\u001b[0m\u001b[0;34m.\u001b[0m\u001b[0mdatetime\u001b[0m\u001b[0;34m.\u001b[0m\u001b[0mnow\u001b[0m\u001b[0;34m(\u001b[0m\u001b[0;34m)\u001b[0m\u001b[0;34m\u001b[0m\u001b[0;34m\u001b[0m\u001b[0m\n\u001b[0;32m----> 4\u001b[0;31m \u001b[0mX\u001b[0m\u001b[0;34m,\u001b[0m\u001b[0mfeatures_replace\u001b[0m \u001b[0;34m=\u001b[0m \u001b[0mselect_cat_data_threshold\u001b[0m\u001b[0;34m(\u001b[0m\u001b[0mX\u001b[0m\u001b[0;34m,\u001b[0m\u001b[0mfeatures\u001b[0m\u001b[0;34m,\u001b[0m\u001b[0;36m1E-6\u001b[0m\u001b[0;34m)\u001b[0m\u001b[0;34m\u001b[0m\u001b[0;34m\u001b[0m\u001b[0m\n\u001b[0m\u001b[1;32m      5\u001b[0m \u001b[0mX\u001b[0m \u001b[0;34m=\u001b[0m \u001b[0mcreate_dummies_ohe\u001b[0m\u001b[0;34m(\u001b[0m\u001b[0mX\u001b[0m\u001b[0;34m,\u001b[0m\u001b[0mcat_features\u001b[0m\u001b[0;34m)\u001b[0m\u001b[0;34m\u001b[0m\u001b[0;34m\u001b[0m\u001b[0m\n\u001b[1;32m      6\u001b[0m \u001b[0mX_train\u001b[0m\u001b[0;34m,\u001b[0m \u001b[0mX_test\u001b[0m\u001b[0;34m,\u001b[0m\u001b[0my_train\u001b[0m\u001b[0;34m,\u001b[0m\u001b[0my_test\u001b[0m \u001b[0;34m=\u001b[0m \u001b[0mtrain_test_split\u001b[0m\u001b[0;34m(\u001b[0m\u001b[0mX\u001b[0m\u001b[0;34m,\u001b[0m\u001b[0my\u001b[0m\u001b[0;34m,\u001b[0m\u001b[0mtest_size\u001b[0m\u001b[0;34m=\u001b[0m\u001b[0;36m0.3\u001b[0m\u001b[0;34m,\u001b[0m\u001b[0mrandom_state\u001b[0m\u001b[0;34m=\u001b[0m\u001b[0;36m1\u001b[0m\u001b[0;34m)\u001b[0m\u001b[0;34m\u001b[0m\u001b[0;34m\u001b[0m\u001b[0m\n",
      "\u001b[0;32m<ipython-input-25-db9447bbbd57>\u001b[0m in \u001b[0;36mselect_cat_data_threshold\u001b[0;34m(X, feature_data, threshold_value, cat_features)\u001b[0m\n\u001b[1;32m     11\u001b[0m                                               (feature_data['scores']<=threshold_value),'features']for cat in cat_features}\n\u001b[1;32m     12\u001b[0m     \u001b[0;32mfor\u001b[0m \u001b[0mcat\u001b[0m\u001b[0;34m,\u001b[0m\u001b[0mseries\u001b[0m \u001b[0;32min\u001b[0m \u001b[0mdictionary_filter\u001b[0m\u001b[0;34m.\u001b[0m\u001b[0mitems\u001b[0m\u001b[0;34m(\u001b[0m\u001b[0;34m)\u001b[0m\u001b[0;34m:\u001b[0m\u001b[0;34m\u001b[0m\u001b[0;34m\u001b[0m\u001b[0m\n\u001b[0;32m---> 13\u001b[0;31m         \u001b[0mX\u001b[0m\u001b[0;34m.\u001b[0m\u001b[0mloc\u001b[0m\u001b[0;34m[\u001b[0m\u001b[0mX\u001b[0m\u001b[0;34m[\u001b[0m\u001b[0mcat\u001b[0m\u001b[0;34m]\u001b[0m\u001b[0;34m.\u001b[0m\u001b[0misin\u001b[0m\u001b[0;34m(\u001b[0m\u001b[0mseries\u001b[0m\u001b[0;34m)\u001b[0m\u001b[0;34m,\u001b[0m\u001b[0mcat\u001b[0m\u001b[0;34m]\u001b[0m \u001b[0;34m=\u001b[0m \u001b[0;34m'Other'\u001b[0m\u001b[0;34m\u001b[0m\u001b[0;34m\u001b[0m\u001b[0m\n\u001b[0m\u001b[1;32m     14\u001b[0m     \u001b[0;32mreturn\u001b[0m \u001b[0;34m(\u001b[0m\u001b[0mX\u001b[0m\u001b[0;34m,\u001b[0m\u001b[0mdictionary_filter\u001b[0m\u001b[0;34m)\u001b[0m\u001b[0;34m\u001b[0m\u001b[0;34m\u001b[0m\u001b[0m\n",
      "\u001b[0;31mAttributeError\u001b[0m: 'str' object has no attribute 'isin'"
     ]
    }
   ],
   "source": [
    "from sklearn.preprocessing import QuantileTransformer\n",
    "import datetime\n",
    "start = datetime.datetime.now()\n",
    "X,features_replace = select_cat_data_threshold(X,features,1E-6)\n",
    "X = create_dummies_ohe(X,cat_features)\n",
    "X_train, X_test,y_train,y_test = train_test_split(X,y,test_size=0.3,random_state=1)\n",
    "sc = QuantileTransformer()\n",
    "X_train[numeric_features] = sc.fit_transform(X_train[numeric_features])\n",
    "X_test[numeric_features] = sc.fit_transform(X_test[numeric_features])\n",
    "print('start model')\n",
    "xgb_classifier = OneVsRestClassifier(XGBClassifier(n_jobs=-1, max_depth=7, n_estimators=200))\n",
    "xgb_classifier.fit(X_train, y_train)\n",
    "y_pred = xgb_classifier.predict(X_test)\n",
    "print(f1_score(y_test,y_pred,average='weighted'))\n",
    "end = datetime.datetime.now()\n",
    "print(end-start)"
   ]
  },
  {
   "cell_type": "markdown",
   "metadata": {},
   "source": [
    "using F1-score as imbalanced dataset"
   ]
  },
  {
   "cell_type": "markdown",
   "metadata": {},
   "source": [
    "## Smote"
   ]
  },
  {
   "cell_type": "markdown",
   "metadata": {},
   "source": [
    "Using xgboost is almost is definitely better still very low lets amend the imbalances in the data\n"
   ]
  },
  {
   "cell_type": "code",
   "execution_count": null,
   "metadata": {},
   "outputs": [],
   "source": [
    "from imblearn.over_sampling import SMOTE,BorderlineSMOTE,SVMSMOTE\n",
    "from sklearn import neighbors\n",
    "from imblearn.pipeline import Pipeline\n",
    "from imblearn.under_sampling import RandomUnderSampler\n",
    "over = SMOTE()\n",
    "under = RandomUnderSampler()\n",
    "steps = [('o', over), ('u', under)]\n",
    "smote_pipeline = Pipeline(steps=steps)"
   ]
  },
  {
   "cell_type": "code",
   "execution_count": null,
   "metadata": {},
   "outputs": [],
   "source": [
    "oversample = BorderlineSMOTE(sampling_strategy='minority',k_neighbors=1,m_neighbors=1)\n",
    "X_train_resample,y_train_resample = over.fit_resample(X_train,y_train)\n",
    "xgb_classifier.fit(X_train_resample,y_train_resample)"
   ]
  },
  {
   "cell_type": "code",
   "execution_count": null,
   "metadata": {},
   "outputs": [],
   "source": [
    "f1(xgb_classifier,X_test,y_test)"
   ]
  },
  {
   "cell_type": "markdown",
   "metadata": {},
   "source": [
    "smote perhaps a more focused sampling strategy is required for balancing the data"
   ]
  },
  {
   "cell_type": "code",
   "execution_count": null,
   "metadata": {},
   "outputs": [],
   "source": [
    "from sklearn.model_selection import GridSearchCV\n",
    "pipeline = Pipeline([('o', oversample),\n",
    "           ('xgb', OneVsRestClassifier(XGBClassifier(n_jobs=-1, max_depth=7, n_estimators=200)))])\n",
    "parameters = {'o__sampling_strategy':('minority','not majority','all'),\n",
    "             'o__k_neighbors':[1,5],\n",
    "             'o__m_neighbors':[1,20]}\n",
    "grid_search = GridSearchCV(pipeline, parameters, n_jobs=-1, \n",
    "                           verbose=5, scoring = \"f1_weighted\", \n",
    "                           refit=True, cv=5)\n",
    "grid_search.fit(X_train,y_train)"
   ]
  },
  {
   "cell_type": "code",
   "execution_count": null,
   "metadata": {},
   "outputs": [],
   "source": [
    "grid_search.best_params_"
   ]
  },
  {
   "cell_type": "markdown",
   "metadata": {},
   "source": [
    "## Hyperparameter Tuning XGBoost"
   ]
  },
  {
   "cell_type": "code",
   "execution_count": null,
   "metadata": {},
   "outputs": [],
   "source": [
    "from sklearn.model_selection import RandomizedSearchCV\n",
    "params = {\"learning_rate\":[0.05,0.1,0.15,0.2,0.25,0.3,0.35],\n",
    "          \"max_depth\":[3,4,5,6,8,10,12,15,17],\n",
    "          \"min_child_weight\":[1,3,5,7,9,11],\n",
    "          \"gamma\":[0.0,0.1,0.3,0.4,0.5,0.6],\n",
    "          \"colsample_bytree\":[0.3,0.4,0.5,0.7,0.8,0.9],\n",
    "          \"n_estimators\":range(60, 220, 40)\n",
    "         }\n",
    "xgb_random_search = RandomizedSearchCV(xgb_classifier,\n",
    "                                       param_distributions=params,\n",
    "                                       cv=5,\n",
    "                                       scoring='f1_weighted',\n",
    "                                       verbose=3,\n",
    "                                       n_iter = 10,\n",
    "                                      random_state=1)"
   ]
  },
  {
   "cell_type": "code",
   "execution_count": null,
   "metadata": {},
   "outputs": [],
   "source": [
    "xgb_params = xgb_random_search.fit(X_train,y_train)"
   ]
  },
  {
   "cell_type": "code",
   "execution_count": null,
   "metadata": {},
   "outputs": [],
   "source": [
    "print(f\"model best score {xgb_params.best_score_}\")\n",
    "print(f\"model best params {xgb_params.best_params_}\")\n",
    "params = xgb_params.best_params_"
   ]
  },
  {
   "cell_type": "code",
   "execution_count": null,
   "metadata": {},
   "outputs": [],
   "source": []
  }
 ],
 "metadata": {
  "kernelspec": {
   "display_name": "Python 3",
   "language": "python",
   "name": "python3"
  },
  "language_info": {
   "codemirror_mode": {
    "name": "ipython",
    "version": 3
   },
   "file_extension": ".py",
   "mimetype": "text/x-python",
   "name": "python",
   "nbconvert_exporter": "python",
   "pygments_lexer": "ipython3",
   "version": "3.7.7"
  },
  "toc": {
   "base_numbering": 1,
   "nav_menu": {},
   "number_sections": true,
   "sideBar": true,
   "skip_h1_title": false,
   "title_cell": "Table of Contents",
   "title_sidebar": "Contents",
   "toc_cell": false,
   "toc_position": {},
   "toc_section_display": true,
   "toc_window_display": false
  },
  "varInspector": {
   "cols": {
    "lenName": 16,
    "lenType": 16,
    "lenVar": 40
   },
   "kernels_config": {
    "python": {
     "delete_cmd_postfix": "",
     "delete_cmd_prefix": "del ",
     "library": "var_list.py",
     "varRefreshCmd": "print(var_dic_list())"
    },
    "r": {
     "delete_cmd_postfix": ") ",
     "delete_cmd_prefix": "rm(",
     "library": "var_list.r",
     "varRefreshCmd": "cat(var_dic_list()) "
    }
   },
   "types_to_exclude": [
    "module",
    "function",
    "builtin_function_or_method",
    "instance",
    "_Feature"
   ],
   "window_display": false
  }
 },
 "nbformat": 4,
 "nbformat_minor": 4
}
